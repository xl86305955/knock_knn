{
 "cells": [
  {
   "cell_type": "markdown",
   "metadata": {},
   "source": [
    "# Knockoff KNN Experiments"
   ]
  },
  {
   "cell_type": "markdown",
   "metadata": {},
   "source": [
    "### Using breast cancer dataset\n",
    "#### Dataset info\n",
    "* Classes: 2 \n",
    "* Features: 10"
   ]
  },
  {
   "cell_type": "code",
   "execution_count": 1,
   "metadata": {},
   "outputs": [],
   "source": [
    "import numpy as np\n",
    "import pandas as pd"
   ]
  },
  {
   "cell_type": "code",
   "execution_count": 2,
   "metadata": {},
   "outputs": [],
   "source": [
    "from sklearn.model_selection import train_test_split\n",
    "from sklearn.neighbors import KNeighborsClassifier\n",
    "from sklearn.preprocessing import MinMaxScaler\n",
    "from sklearn.datasets import load_breast_cancer\n",
    "from sklearn.datasets import load_svmlight_file\n",
    "from sklearn.metrics import accuracy_score"
   ]
  },
  {
   "cell_type": "code",
   "execution_count": 3,
   "metadata": {},
   "outputs": [
    {
     "name": "stderr",
     "output_type": "stream",
     "text": [
      "Using TensorFlow backend.\n"
     ]
    }
   ],
   "source": [
    "import tensorflow as tf\n",
    "tf.compat.v1.logging.set_verbosity(tf.compat.v1.logging.ERROR)\n",
    "import keras.backend"
   ]
  },
  {
   "cell_type": "code",
   "execution_count": 4,
   "metadata": {},
   "outputs": [],
   "source": [
    "def set_random_seed():\n",
    "    random_seed = 0\n",
    "\n",
    "    tf.set_random_seed(random_seed)\n",
    "    np.random.seed(random_seed)\n",
    "\n",
    "    config = tf.ConfigProto()\n",
    "    config.gpu_options.allow_growth = True\n",
    "    sess = tf.Session(config=config)\n",
    "    keras.backend.set_session(sess)\n",
    "    keras.layers.core.K.set_learning_phase(0)\n",
    "    #tensorflow.keras.backend.set_session(sess)\n",
    "    sess.run(tf.global_variables_initializer())\n",
    "    #auto_var.set_intermidiate_variable(\"sess\", sess)\n",
    "    random_state = np.random.RandomState(0)\n",
    "    #auto_var.set_intermidiate_variable(\"random_state\", random_state)\n",
    "\n",
    "    return random_state"
   ]
  },
  {
   "cell_type": "code",
   "execution_count": 5,
   "metadata": {},
   "outputs": [],
   "source": [
    "random_state = set_random_seed()"
   ]
  },
  {
   "cell_type": "code",
   "execution_count": 6,
   "metadata": {},
   "outputs": [],
   "source": [
    "X, y = load_svmlight_file(\"./nnattack/datasets/files/breast-cancer\")\n",
    "X = X.todense() \n",
    "y[y==2] = 0\n",
    "y[y==4] = 1\n",
    "y = y.astype(int)"
   ]
  },
  {
   "cell_type": "markdown",
   "metadata": {},
   "source": [
    "### Train test split\n",
    "* Train sizes: 483\n",
    "* Test sizes: 200\n",
    "* Adversarial sizes: 100"
   ]
  },
  {
   "cell_type": "code",
   "execution_count": 7,
   "metadata": {},
   "outputs": [],
   "source": [
    "idxs = np.arange(len(X))\n",
    "random_state.shuffle(idxs)\n",
    "x_train, x_test, y_train, y_test = X[idxs[:-200]], X[idxs[-200:]], y[idxs[:-200]], y[idxs[-200:]]"
   ]
  },
  {
   "cell_type": "code",
   "execution_count": 8,
   "metadata": {},
   "outputs": [],
   "source": [
    "scaler = MinMaxScaler()\n",
    "x_train = scaler.fit_transform(x_train)\n",
    "x_test = scaler.transform(x_test)"
   ]
  },
  {
   "cell_type": "markdown",
   "metadata": {},
   "source": [
    "## Baseline Accuracy "
   ]
  },
  {
   "cell_type": "code",
   "execution_count": 9,
   "metadata": {},
   "outputs": [
    {
     "data": {
      "text/plain": [
       "KNeighborsClassifier(algorithm='auto', leaf_size=30, metric='minkowski',\n",
       "                     metric_params=None, n_jobs=None, n_neighbors=1, p=2,\n",
       "                     weights='uniform')"
      ]
     },
     "execution_count": 9,
     "metadata": {},
     "output_type": "execute_result"
    }
   ],
   "source": [
    "model = KNeighborsClassifier(n_neighbors=1)\n",
    "model.fit(x_train, y_train)"
   ]
  },
  {
   "cell_type": "code",
   "execution_count": 10,
   "metadata": {},
   "outputs": [
    {
     "name": "stdout",
     "output_type": "stream",
     "text": [
      "Accuracy : 95.000%\n"
     ]
    }
   ],
   "source": [
    "predictions = model.predict(x_test)\n",
    "accuracy = accuracy_score(predictions,y_test)\n",
    "print(\"Accuracy : %s\" % \"{0:.3%}\".format(accuracy))"
   ]
  },
  {
   "cell_type": "code",
   "execution_count": 11,
   "metadata": {},
   "outputs": [],
   "source": [
    "ori_x_test, ori_y_test=x_test, y_test\n",
    "idxs = np.where(predictions == y_test)[0]\n",
    "random_state.shuffle(idxs)\n",
    "x_adv, y_adv = x_test[idxs[:100]], y_test[idxs[:100]]"
   ]
  },
  {
   "cell_type": "markdown",
   "metadata": {},
   "source": [
    "## Knockoff Transferset Construction"
   ]
  },
  {
   "cell_type": "code",
   "execution_count": 20,
   "metadata": {},
   "outputs": [],
   "source": [
    "from nnattack.attacks.nns import nn_attack\n",
    "from nnattack.attacks.nns.nn_attack import NNAttack\n",
    "from nnattack.attacks.nns.nn_attack import KNNRegionBasedAttackApprox\n",
    "from nnattack.attacks.nns.direct import DirectAttack\n",
    "from nnattack.attacks.nns.nn_attack import RevNNAttack"
   ]
  },
  {
   "cell_type": "code",
   "execution_count": 22,
   "metadata": {},
   "outputs": [],
   "source": [
    "LINF_EPS = [0.01 * i for i in range(0, 81, 1)]\n",
    "eps_list=LINF_EPS"
   ]
  },
  {
   "cell_type": "markdown",
   "metadata": {},
   "source": [
    "### Constructing transferset with random sampling 483 datas"
   ]
  },
  {
   "cell_type": "code",
   "execution_count": 23,
   "metadata": {},
   "outputs": [],
   "source": [
    "budget=483\n",
    "dim=10"
   ]
  },
  {
   "cell_type": "markdown",
   "metadata": {},
   "source": [
    "Random sampled 483 datas with total 683 datas"
   ]
  },
  {
   "cell_type": "code",
   "execution_count": 24,
   "metadata": {},
   "outputs": [],
   "source": [
    "idxs = np.random.randint(len(X), size=budget)"
   ]
  },
  {
   "cell_type": "code",
   "execution_count": 25,
   "metadata": {},
   "outputs": [],
   "source": [
    "x_train_rand_transfer = X[idxs]"
   ]
  },
  {
   "cell_type": "code",
   "execution_count": 26,
   "metadata": {},
   "outputs": [],
   "source": [
    "scaler = MinMaxScaler()\n",
    "x_train_rand_transfer = scaler.fit_transform(x_train_rand_transfer)"
   ]
  },
  {
   "cell_type": "markdown",
   "metadata": {},
   "source": [
    "Using baseline model for getting labels"
   ]
  },
  {
   "cell_type": "code",
   "execution_count": 27,
   "metadata": {},
   "outputs": [],
   "source": [
    "y_train_rand_transfer = model.predict(x_train_rand_transfer)"
   ]
  },
  {
   "cell_type": "markdown",
   "metadata": {},
   "source": [
    "Training with transfer set"
   ]
  },
  {
   "cell_type": "code",
   "execution_count": 28,
   "metadata": {},
   "outputs": [
    {
     "data": {
      "text/plain": [
       "KNeighborsClassifier(algorithm='auto', leaf_size=30, metric='minkowski',\n",
       "                     metric_params=None, n_jobs=None, n_neighbors=1, p=2,\n",
       "                     weights='uniform')"
      ]
     },
     "execution_count": 28,
     "metadata": {},
     "output_type": "execute_result"
    }
   ],
   "source": [
    "model_rand_transfer = KNeighborsClassifier(n_neighbors=1)\n",
    "model_rand_transfer.fit(x_train_rand_transfer, y_train_rand_transfer)"
   ]
  },
  {
   "cell_type": "code",
   "execution_count": 29,
   "metadata": {},
   "outputs": [
    {
     "name": "stdout",
     "output_type": "stream",
     "text": [
      "Accuracy : 93.500%\n"
     ]
    }
   ],
   "source": [
    "predictions = model_rand_transfer.predict(x_test)\n",
    "accuracy = accuracy_score(predictions,y_test)\n",
    "print(\"Accuracy : %s\" % \"{0:.3%}\".format(accuracy))"
   ]
  },
  {
   "cell_type": "markdown",
   "metadata": {},
   "source": [
    "### Constructing transferset with 483 adversarial examples with RBA-APPROX Attack"
   ]
  },
  {
   "cell_type": "code",
   "execution_count": 30,
   "metadata": {},
   "outputs": [
    {
     "name": "stderr",
     "output_type": "stream",
     "text": [
      "[Parallel(n_jobs=-1)]: Using backend LokyBackend with 12 concurrent workers.\n",
      "[Parallel(n_jobs=-1)]: Done  26 tasks      | elapsed:    9.9s\n",
      "[Parallel(n_jobs=-1)]: Done 176 tasks      | elapsed:   42.9s\n",
      "[Parallel(n_jobs=-1)]: Done 426 tasks      | elapsed:  1.6min\n",
      "[Parallel(n_jobs=-1)]: Done 483 out of 483 | elapsed:  1.8min finished\n"
     ]
    }
   ],
   "source": [
    "x_adv_transfer = x_train\n",
    "attack_model = KNNRegionBasedAttackApprox(\n",
    "                    x_adv_transfer,\n",
    "                    y_train,\n",
    "                    n_searches=50,\n",
    "                    n_neighbors=1,\n",
    "                    ord=np.inf\n",
    "                )\n",
    "\n",
    "perturbs_rba_approx = attack_model.perturb(x_adv_transfer, y=y_train, eps=eps_list)"
   ]
  },
  {
   "cell_type": "code",
   "execution_count": 31,
   "metadata": {},
   "outputs": [],
   "source": [
    "if attack_model is not None and hasattr(attack_model, 'perts'):\n",
    "    perts_rba_approx = attack_model.perts\n",
    "else:\n",
    "    perts_rba_approx = np.zeros_like(x_adv_transfer)\n",
    "    for pert in perturbs_rba_approx:\n",
    "        pred = model.predict(x_adv_transfer + pert)\n",
    "        for i in range(len(pred)):\n",
    "            if (pred[i] != y_train[i]) and np.linalg.norm(perts_rba_approx[i])==0:\n",
    "                perts_rba_approx[i] = pert[i]"
   ]
  },
  {
   "cell_type": "code",
   "execution_count": 32,
   "metadata": {},
   "outputs": [],
   "source": [
    "perts_rba_approx = perts_rba_approx.astype(float)"
   ]
  },
  {
   "cell_type": "markdown",
   "metadata": {},
   "source": [
    "Using baseline model to get label with data with noise"
   ]
  },
  {
   "cell_type": "code",
   "execution_count": 33,
   "metadata": {},
   "outputs": [],
   "source": [
    "y_adv_transfer = model.predict(x_adv_transfer+perts_rba_approx*0.5)"
   ]
  },
  {
   "cell_type": "code",
   "execution_count": 44,
   "metadata": {},
   "outputs": [
    {
     "data": {
      "text/plain": [
       "KNeighborsClassifier(algorithm='auto', leaf_size=30, metric='minkowski',\n",
       "                     metric_params=None, n_jobs=None, n_neighbors=1, p=2,\n",
       "                     weights='uniform')"
      ]
     },
     "execution_count": 44,
     "metadata": {},
     "output_type": "execute_result"
    }
   ],
   "source": [
    "model_adv_transfer = KNeighborsClassifier(n_neighbors=1)\n",
    "model_adv_transfer.fit(x_adv_transfer+perts_rba_approx*0.5, y_adv_transfer)"
   ]
  },
  {
   "cell_type": "code",
   "execution_count": 45,
   "metadata": {},
   "outputs": [
    {
     "name": "stdout",
     "output_type": "stream",
     "text": [
      "Accuracy : 96.000%\n"
     ]
    }
   ],
   "source": [
    "predictions = model_adv_transfer.predict(x_test)\n",
    "accuracy = accuracy_score(predictions,y_test)\n",
    "print(\"Accuracy : %s\" % \"{0:.3%}\".format(accuracy))"
   ]
  },
  {
   "cell_type": "markdown",
   "metadata": {},
   "source": [
    "### Constructing the transfer set with adding gaussian noice to training data"
   ]
  },
  {
   "cell_type": "code",
   "execution_count": 46,
   "metadata": {},
   "outputs": [],
   "source": [
    "noise = np.random.normal(0,1,(budget, dim))"
   ]
  },
  {
   "cell_type": "code",
   "execution_count": 47,
   "metadata": {},
   "outputs": [
    {
     "name": "stdout",
     "output_type": "stream",
     "text": [
      "Accuracy : 53.000%\n"
     ]
    }
   ],
   "source": [
    "x_train_noise = x_train + noise\n",
    "y_train_noise = model.predict(x_train_noise)\n",
    "\n",
    "model_with_noise = KNeighborsClassifier(n_neighbors=1)\n",
    "model_with_noise.fit(x_train_noise, y_train_noise)\n",
    "\n",
    "predictions = model_with_noise.predict(x_test)\n",
    "accuracy = accuracy_score(predictions,y_test)\n",
    "print(\"Accuracy : %s\" % \"{0:.3%}\".format(accuracy))"
   ]
  },
  {
   "cell_type": "markdown",
   "metadata": {},
   "source": [
    "### Constructing the transfer set with DirectAttack"
   ]
  },
  {
   "cell_type": "code",
   "execution_count": 48,
   "metadata": {},
   "outputs": [],
   "source": [
    "x_adv_dir = x_train\n",
    "direct_attack = DirectAttack(n_neighbors=1, ord=np.inf)\n",
    "direct_attack.fit(x_adv_dir, y_train)\n",
    "perturbs_direct_attack = direct_attack.perturb(x_adv_dir, y_train, eps=eps_list)\n",
    "perts_direct_attack = np.zeros_like(x_adv_dir)\n",
    "for pert in perturbs_direct_attack:\n",
    "    pred = model.predict(x_adv_dir + pert)\n",
    "    for i in range(len(pred)):\n",
    "        if (pred[i] != y_train[i]) and np.linalg.norm(perts_direct_attack[i])==0:\n",
    "            perts_direct_attack[i] = pert[i]\n",
    "perts_direct_attack = perts_direct_attack.astype(float)"
   ]
  },
  {
   "cell_type": "code",
   "execution_count": 49,
   "metadata": {},
   "outputs": [],
   "source": [
    "y_adv_transfer_dir = model.predict(x_adv_dir+perts_direct_attack*0.9)"
   ]
  },
  {
   "cell_type": "code",
   "execution_count": 50,
   "metadata": {},
   "outputs": [
    {
     "data": {
      "text/plain": [
       "KNeighborsClassifier(algorithm='auto', leaf_size=30, metric='minkowski',\n",
       "                     metric_params=None, n_jobs=None, n_neighbors=1, p=2,\n",
       "                     weights='uniform')"
      ]
     },
     "execution_count": 50,
     "metadata": {},
     "output_type": "execute_result"
    }
   ],
   "source": [
    "model_adv_transfer_dir = KNeighborsClassifier(n_neighbors=1)\n",
    "model_adv_transfer_dir.fit(x_adv_dir+perts_direct_attack*0.9, y_adv_transfer_dir)"
   ]
  },
  {
   "cell_type": "code",
   "execution_count": 51,
   "metadata": {},
   "outputs": [
    {
     "name": "stdout",
     "output_type": "stream",
     "text": [
      "Accuracy : 97.000%\n"
     ]
    }
   ],
   "source": [
    "predictions = model_adv_transfer_dir.predict(x_test)\n",
    "accuracy = accuracy_score(predictions,y_test)\n",
    "print(\"Accuracy : %s\" % \"{0:.3%}\".format(accuracy))"
   ]
  },
  {
   "cell_type": "code",
   "execution_count": null,
   "metadata": {},
   "outputs": [],
   "source": []
  }
 ],
 "metadata": {
  "kernelspec": {
   "display_name": "Python 3",
   "language": "python",
   "name": "python3"
  },
  "language_info": {
   "codemirror_mode": {
    "name": "ipython",
    "version": 3
   },
   "file_extension": ".py",
   "mimetype": "text/x-python",
   "name": "python",
   "nbconvert_exporter": "python",
   "pygments_lexer": "ipython3",
   "version": "3.6.9"
  }
 },
 "nbformat": 4,
 "nbformat_minor": 4
}
